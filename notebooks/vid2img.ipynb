pip install opencv-python
import cv2
import sys, os
def get_frames(file_path, out_prefix):
    count = 0
    video_capture = cv2.VideoCapture(file_path)
    success, image = video_capture.read()
    success = True
    while success:
        video_capture.set(cv2.CAP_PROP_POS_MSEC, (count*1000))
        cv2.imwrite(os.path.join('/Users/bartle/Code/cornell tech/amlhws/proj/vimages',
                                 out_prefix+"_%d.jpg"%count),image)
        success,image = video_capture.read()
        count += 1
get_frames('./vahiti.mp4','vhti')
get_frames('./vahiti2.mp4','vhti2')

#script for scraping frames from videos
