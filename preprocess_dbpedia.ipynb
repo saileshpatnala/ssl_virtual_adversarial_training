{
 "cells": [
  {
   "cell_type": "markdown",
   "metadata": {
    "id": "OlDHfWAaU98q"
   },
   "source": [
    "## Loading the data"
   ]
  },
  {
   "cell_type": "code",
   "execution_count": 3,
   "metadata": {
    "colab": {
     "base_uri": "https://localhost:8080/",
     "height": 425
    },
    "id": "HqNQQdwbIVGF",
    "outputId": "25bd16fd-7053-4187-c22e-1300c4b4913a"
   },
   "outputs": [
    {
     "data": {
      "text/html": [
       "<div>\n",
       "<style scoped>\n",
       "    .dataframe tbody tr th:only-of-type {\n",
       "        vertical-align: middle;\n",
       "    }\n",
       "\n",
       "    .dataframe tbody tr th {\n",
       "        vertical-align: top;\n",
       "    }\n",
       "\n",
       "    .dataframe thead th {\n",
       "        text-align: right;\n",
       "    }\n",
       "</style>\n",
       "<table border=\"1\" class=\"dataframe\">\n",
       "  <thead>\n",
       "    <tr style=\"text-align: right;\">\n",
       "      <th></th>\n",
       "      <th>class</th>\n",
       "      <th>title</th>\n",
       "      <th>text</th>\n",
       "    </tr>\n",
       "  </thead>\n",
       "  <tbody>\n",
       "    <tr>\n",
       "      <th>0</th>\n",
       "      <td>1</td>\n",
       "      <td>E. D. Abbott Ltd</td>\n",
       "      <td>Abbott of Farnham E D Abbott Limited was a Br...</td>\n",
       "    </tr>\n",
       "    <tr>\n",
       "      <th>1</th>\n",
       "      <td>1</td>\n",
       "      <td>Schwan-Stabilo</td>\n",
       "      <td>Schwan-STABILO is a German maker of pens for ...</td>\n",
       "    </tr>\n",
       "    <tr>\n",
       "      <th>2</th>\n",
       "      <td>1</td>\n",
       "      <td>Q-workshop</td>\n",
       "      <td>Q-workshop is a Polish company located in Poz...</td>\n",
       "    </tr>\n",
       "    <tr>\n",
       "      <th>3</th>\n",
       "      <td>1</td>\n",
       "      <td>Marvell Software Solutions Israel</td>\n",
       "      <td>Marvell Software Solutions Israel known as RA...</td>\n",
       "    </tr>\n",
       "    <tr>\n",
       "      <th>4</th>\n",
       "      <td>1</td>\n",
       "      <td>Bergan Mercy Medical Center</td>\n",
       "      <td>Bergan Mercy Medical Center is a hospital loc...</td>\n",
       "    </tr>\n",
       "  </tbody>\n",
       "</table>\n",
       "</div>"
      ],
      "text/plain": [
       "   class                              title  \\\n",
       "0      1                   E. D. Abbott Ltd   \n",
       "1      1                     Schwan-Stabilo   \n",
       "2      1                         Q-workshop   \n",
       "3      1  Marvell Software Solutions Israel   \n",
       "4      1        Bergan Mercy Medical Center   \n",
       "\n",
       "                                                text  \n",
       "0   Abbott of Farnham E D Abbott Limited was a Br...  \n",
       "1   Schwan-STABILO is a German maker of pens for ...  \n",
       "2   Q-workshop is a Polish company located in Poz...  \n",
       "3   Marvell Software Solutions Israel known as RA...  \n",
       "4   Bergan Mercy Medical Center is a hospital loc...  "
      ]
     },
     "metadata": {},
     "output_type": "display_data"
    },
    {
     "data": {
      "text/plain": [
       "(560000, 3)"
      ]
     },
     "metadata": {},
     "output_type": "display_data"
    },
    {
     "data": {
      "text/html": [
       "<div>\n",
       "<style scoped>\n",
       "    .dataframe tbody tr th:only-of-type {\n",
       "        vertical-align: middle;\n",
       "    }\n",
       "\n",
       "    .dataframe tbody tr th {\n",
       "        vertical-align: top;\n",
       "    }\n",
       "\n",
       "    .dataframe thead th {\n",
       "        text-align: right;\n",
       "    }\n",
       "</style>\n",
       "<table border=\"1\" class=\"dataframe\">\n",
       "  <thead>\n",
       "    <tr style=\"text-align: right;\">\n",
       "      <th></th>\n",
       "      <th>class</th>\n",
       "      <th>title</th>\n",
       "      <th>text</th>\n",
       "    </tr>\n",
       "  </thead>\n",
       "  <tbody>\n",
       "    <tr>\n",
       "      <th>0</th>\n",
       "      <td>1</td>\n",
       "      <td>TY KU</td>\n",
       "      <td>TY KU /taɪkuː/ is an American alcoholic bever...</td>\n",
       "    </tr>\n",
       "    <tr>\n",
       "      <th>1</th>\n",
       "      <td>1</td>\n",
       "      <td>Odd Lot Entertainment</td>\n",
       "      <td>OddLot Entertainment founded in 2001 by longt...</td>\n",
       "    </tr>\n",
       "    <tr>\n",
       "      <th>2</th>\n",
       "      <td>1</td>\n",
       "      <td>Henkel</td>\n",
       "      <td>Henkel AG &amp; Company KGaA operates worldwide w...</td>\n",
       "    </tr>\n",
       "    <tr>\n",
       "      <th>3</th>\n",
       "      <td>1</td>\n",
       "      <td>GOAT Store</td>\n",
       "      <td>The GOAT Store (Games Of All Type Store) LLC ...</td>\n",
       "    </tr>\n",
       "    <tr>\n",
       "      <th>4</th>\n",
       "      <td>1</td>\n",
       "      <td>RagWing Aircraft Designs</td>\n",
       "      <td>RagWing Aircraft Designs (also called the Rag...</td>\n",
       "    </tr>\n",
       "  </tbody>\n",
       "</table>\n",
       "</div>"
      ],
      "text/plain": [
       "   class                     title  \\\n",
       "0      1                     TY KU   \n",
       "1      1     Odd Lot Entertainment   \n",
       "2      1                    Henkel   \n",
       "3      1                GOAT Store   \n",
       "4      1  RagWing Aircraft Designs   \n",
       "\n",
       "                                                text  \n",
       "0   TY KU /taɪkuː/ is an American alcoholic bever...  \n",
       "1   OddLot Entertainment founded in 2001 by longt...  \n",
       "2   Henkel AG & Company KGaA operates worldwide w...  \n",
       "3   The GOAT Store (Games Of All Type Store) LLC ...  \n",
       "4   RagWing Aircraft Designs (also called the Rag...  "
      ]
     },
     "metadata": {},
     "output_type": "display_data"
    },
    {
     "data": {
      "text/plain": [
       "(70000, 3)"
      ]
     },
     "metadata": {},
     "output_type": "display_data"
    }
   ],
   "source": [
    "import os\n",
    "import pandas as pd\n",
    "import numpy as np\n",
    "\n",
    "DBPEDIA_DIR = 'data/dbpedia_data'\n",
    "DATA_DIR = 'data'\n",
    "\n",
    "train_data_path = os.path.join(DBPEDIA_DIR, 'train.csv')\n",
    "test_data_path = os.path.join(DBPEDIA_DIR, 'test.csv')\n",
    "\n",
    "train_df = pd.read_csv(train_data_path, header=None, names=['class', 'title', 'text'])\n",
    "display(train_df.head())\n",
    "display(train_df.shape)\n",
    "test_df = pd.read_csv(test_data_path, header=None, names=['class', 'title', 'text'])\n",
    "display(test_df.head())\n",
    "display(test_df.shape)"
   ]
  },
  {
   "cell_type": "markdown",
   "metadata": {
    "id": "1JvTcowXVCo7"
   },
   "source": [
    "## Preprocessing text"
   ]
  },
  {
   "cell_type": "code",
   "execution_count": 4,
   "metadata": {
    "colab": {
     "base_uri": "https://localhost:8080/"
    },
    "id": "u63DCDBhI7ZT",
    "outputId": "bef36b6d-a6ef-4367-ec37-25b0f00b6891"
   },
   "outputs": [
    {
     "name": "stderr",
     "output_type": "stream",
     "text": [
      "[nltk_data] Downloading package wordnet to\n",
      "[nltk_data]     /Users/saileshpatnala/nltk_data...\n",
      "[nltk_data]   Package wordnet is already up-to-date!\n",
      "[nltk_data] Downloading package stopwords to\n",
      "[nltk_data]     /Users/saileshpatnala/nltk_data...\n",
      "[nltk_data]   Package stopwords is already up-to-date!\n"
     ]
    },
    {
     "data": {
      "text/plain": [
       "True"
      ]
     },
     "execution_count": 4,
     "metadata": {},
     "output_type": "execute_result"
    }
   ],
   "source": [
    "import nltk\n",
    "nltk.download('wordnet')\n",
    "nltk.download('stopwords')"
   ]
  },
  {
   "cell_type": "code",
   "execution_count": 5,
   "metadata": {
    "colab": {
     "base_uri": "https://localhost:8080/",
     "height": 204
    },
    "id": "MTON9sDqJFou",
    "outputId": "c19a2d1a-1a3c-4376-ed75-35fa3486f4f5"
   },
   "outputs": [
    {
     "data": {
      "text/html": [
       "<div>\n",
       "<style scoped>\n",
       "    .dataframe tbody tr th:only-of-type {\n",
       "        vertical-align: middle;\n",
       "    }\n",
       "\n",
       "    .dataframe tbody tr th {\n",
       "        vertical-align: top;\n",
       "    }\n",
       "\n",
       "    .dataframe thead th {\n",
       "        text-align: right;\n",
       "    }\n",
       "</style>\n",
       "<table border=\"1\" class=\"dataframe\">\n",
       "  <thead>\n",
       "    <tr style=\"text-align: right;\">\n",
       "      <th></th>\n",
       "      <th>class</th>\n",
       "      <th>title</th>\n",
       "      <th>text</th>\n",
       "      <th>preprocess_text</th>\n",
       "    </tr>\n",
       "  </thead>\n",
       "  <tbody>\n",
       "    <tr>\n",
       "      <th>0</th>\n",
       "      <td>1</td>\n",
       "      <td>TY KU</td>\n",
       "      <td>TY KU /taɪkuː/ is an American alcoholic bever...</td>\n",
       "      <td>[taɪkuː, american, alcoholic, beverage, compan...</td>\n",
       "    </tr>\n",
       "    <tr>\n",
       "      <th>1</th>\n",
       "      <td>1</td>\n",
       "      <td>Odd Lot Entertainment</td>\n",
       "      <td>OddLot Entertainment founded in 2001 by longt...</td>\n",
       "      <td>[oddlot, entertainment, found, longtime, produ...</td>\n",
       "    </tr>\n",
       "    <tr>\n",
       "      <th>2</th>\n",
       "      <td>1</td>\n",
       "      <td>Henkel</td>\n",
       "      <td>Henkel AG &amp; Company KGaA operates worldwide w...</td>\n",
       "      <td>[henkel, company, kgaa, operate, worldwide, le...</td>\n",
       "    </tr>\n",
       "    <tr>\n",
       "      <th>3</th>\n",
       "      <td>1</td>\n",
       "      <td>GOAT Store</td>\n",
       "      <td>The GOAT Store (Games Of All Type Store) LLC ...</td>\n",
       "      <td>[goat, store, game, type, store, llc, one, lar...</td>\n",
       "    </tr>\n",
       "    <tr>\n",
       "      <th>4</th>\n",
       "      <td>1</td>\n",
       "      <td>RagWing Aircraft Designs</td>\n",
       "      <td>RagWing Aircraft Designs (also called the Rag...</td>\n",
       "      <td>[ragwing, aircraft, design, also, call, ragwin...</td>\n",
       "    </tr>\n",
       "  </tbody>\n",
       "</table>\n",
       "</div>"
      ],
      "text/plain": [
       "   class                     title  \\\n",
       "0      1                     TY KU   \n",
       "1      1     Odd Lot Entertainment   \n",
       "2      1                    Henkel   \n",
       "3      1                GOAT Store   \n",
       "4      1  RagWing Aircraft Designs   \n",
       "\n",
       "                                                text  \\\n",
       "0   TY KU /taɪkuː/ is an American alcoholic bever...   \n",
       "1   OddLot Entertainment founded in 2001 by longt...   \n",
       "2   Henkel AG & Company KGaA operates worldwide w...   \n",
       "3   The GOAT Store (Games Of All Type Store) LLC ...   \n",
       "4   RagWing Aircraft Designs (also called the Rag...   \n",
       "\n",
       "                                     preprocess_text  \n",
       "0  [taɪkuː, american, alcoholic, beverage, compan...  \n",
       "1  [oddlot, entertainment, found, longtime, produ...  \n",
       "2  [henkel, company, kgaa, operate, worldwide, le...  \n",
       "3  [goat, store, game, type, store, llc, one, lar...  \n",
       "4  [ragwing, aircraft, design, also, call, ragwin...  "
      ]
     },
     "execution_count": 5,
     "metadata": {},
     "output_type": "execute_result"
    }
   ],
   "source": [
    "import re\n",
    "from nltk.tokenize import RegexpTokenizer\n",
    "from nltk.stem import WordNetLemmatizer\n",
    "from nltk.corpus import stopwords \n",
    "\n",
    "def preprocess_text(text):\n",
    "    # removing numbers\n",
    "    text = re.sub('[0-9]+', '', text)\n",
    "    \n",
    "    # removing urls\n",
    "    text = re.sub(r'http\\S+', '', text)\n",
    "    \n",
    "    # removing punctuation and special characters\n",
    "    tokenizer = RegexpTokenizer(r'\\w+')\n",
    "    tokens = tokenizer.tokenize(text)\n",
    "    \n",
    "    # convert to lowercase and lemmatize\n",
    "    lemmatizer = WordNetLemmatizer()\n",
    "    lemmas = [lemmatizer.lemmatize(token.lower(), pos='v') for token in tokens]\n",
    "    \n",
    "    # remove stop words\n",
    "    keywords= [lemma for lemma in lemmas if lemma not in stopwords.words('english')]\n",
    "    \n",
    "    # remove small words\n",
    "    keywords = [word for word in keywords if len(word) > 2]\n",
    "    \n",
    "    return keywords\n",
    "\n",
    "train_df['preprocess_text'] = train_df.text.apply(preprocess_text)\n",
    "test_df['preprocess_text'] = test_df.text.apply(preprocess_text)\n",
    "train_df.head()\n",
    "test_df.head()"
   ]
  },
  {
   "cell_type": "markdown",
   "metadata": {},
   "source": [
    "Saving preprocessed data to pkl file"
   ]
  },
  {
   "cell_type": "code",
   "execution_count": 6,
   "metadata": {},
   "outputs": [],
   "source": [
    "train_df.to_pickle(os.path.join(DATA_DIR, 'train_preprocessed.pkl'))\n",
    "test_df.to_pickle(os.path.join(DATA_DIR, 'test_preprocessed.pkl'))"
   ]
  },
  {
   "cell_type": "markdown",
   "metadata": {
    "id": "yX2Kc31kVMt2"
   },
   "source": [
    "## Generating word embeddings\n",
    "**NOTE:** This step can be skipped if you already have the model binaries (i.e. `dbpedia.wordembeddings` and `dbpedia.wordembeddings.npy`)"
   ]
  },
  {
   "cell_type": "code",
   "execution_count": null,
   "metadata": {
    "colab": {
     "base_uri": "https://localhost:8080/"
    },
    "id": "5RPLEKlJJIVA",
    "outputId": "f970a1b1-99e6-4392-c52d-655fad9a9b29"
   },
   "outputs": [
    {
     "data": {
      "text/plain": [
       "(672056, 300)"
      ]
     },
     "execution_count": 8,
     "metadata": {
      "tags": []
     },
     "output_type": "execute_result"
    }
   ],
   "source": [
    "from gensim.models import Word2Vec\n",
    "\n",
    "all_text = pd.concat([train_df.preprocess_text, test_df.preprocess_text], axis=0)\n",
    "w2v_model = Word2Vec(sentences=all_text, size=300, min_count=1, window=5, workers=4, sg=1)\n",
    "w2v_model.wv.vectors.shape"
   ]
  },
  {
   "cell_type": "markdown",
   "metadata": {
    "id": "_vzRVRvlmgsA"
   },
   "source": [
    "Saving the word embeddings"
   ]
  },
  {
   "cell_type": "code",
   "execution_count": null,
   "metadata": {
    "id": "NqpZpMZxJXNu"
   },
   "outputs": [],
   "source": [
    "w2v_model.wv.save(os.path.join(DATA_DIR, 'dbpedia.wordembeddings'))"
   ]
  },
  {
   "cell_type": "markdown",
   "metadata": {
    "id": "xIKufmOtmvjJ"
   },
   "source": [
    "## Generating word vectors for text\n",
    "Loading word embeddings"
   ]
  },
  {
   "cell_type": "code",
   "execution_count": null,
   "metadata": {
    "colab": {
     "base_uri": "https://localhost:8080/",
     "height": 419
    },
    "id": "fUFOYve9V0LE",
    "outputId": "2ee20357-11d3-4ee5-926d-e5393e14b5b8"
   },
   "outputs": [],
   "source": [
    "import os\n",
    "import pandas as pd\n",
    "from gensim.models import KeyedVectors\n",
    "\n",
    "word_vectors = KeyedVectors.load(os.path.join(DATA_DIR, 'dbpedia.wordembeddings'), mmap='r')\n",
    "\n",
    "def vectorize_text(text, wv):\n",
    "    \"\"\"\n",
    "    Function to vectorize text by averaging the word vectors \n",
    "    for each word in the text\n",
    "    \"\"\"\n",
    "    vec = np.zeros((1, 300))\n",
    "    for w in text:\n",
    "        vec += wv.get_vector(w)\n",
    "\n",
    "    return vec / len(text)\n",
    "\n",
    "train_df = pd.read_pickle(os.path.join(DATA_DIR, 'train_preprocessed.pkl'))\n",
    "test_df = pd.read_pickle(os.path.join(DATA_DIR, 'test_preprocessed.pkl'))\n",
    "train_df['text_vec'] = train_df.preprocess_text.apply(vectorize_text, args=(word_vectors,))\n",
    "test_df['text_vec'] = test_df.preprocess_text.apply(vectorize_text, args=(word_vectors,)) "
   ]
  },
  {
   "cell_type": "code",
   "execution_count": 34,
   "metadata": {},
   "outputs": [
    {
     "data": {
      "text/plain": [
       "0         [[0.13144679071212356, -0.087081287775866, -0....\n",
       "1         [[0.10442016725428402, -0.003829245441011153, ...\n",
       "2         [[0.16378618261175384, 0.15912020345179675, -0...\n",
       "3         [[0.09676695337984711, 0.10167943956330419, -0...\n",
       "4         [[0.09408356885736187, 0.1792608917846034, 0.0...\n",
       "                                ...                        \n",
       "559995    [[0.26903357211914325, -0.0898169663721799, 0....\n",
       "559996    [[0.2265617781185678, 0.19878128323970096, -0....\n",
       "559997    [[0.23648377436706247, -0.060604066259282476, ...\n",
       "559998    [[0.3331511567812413, 0.23145836793507138, -0....\n",
       "559999    [[0.26185702794993465, -0.024215461823835292, ...\n",
       "Name: text_vec, Length: 560000, dtype: object"
      ]
     },
     "execution_count": 34,
     "metadata": {},
     "output_type": "execute_result"
    }
   ],
   "source": [
    "train_df.text_vec"
   ]
  },
  {
   "cell_type": "code",
   "execution_count": 36,
   "metadata": {},
   "outputs": [],
   "source": [
    "train_vec = pd.DataFrame(train_df.text_vec.explode().tolist())\n",
    "test_vec = pd.DataFrame(test_df.text_vec.explode().tolist())"
   ]
  },
  {
   "cell_type": "code",
   "execution_count": 39,
   "metadata": {
    "id": "KvltynFAn03a"
   },
   "outputs": [],
   "source": [
    "pd.concat([train_vec, train_df['class']], axis=1).to_pickle(os.path.join(DATA_DIR, 'dbpedia_train_wv.pkl'))\n",
    "pd.DataFrame(train_vec).to_pickle(os.path.join(DATA_DIR, 'dbpedia_train_all_x.pkl'))\n",
    "pd.DataFrame(train_df['class']).to_pickle(os.path.join(DATA_DIR, 'dbpedia_train_all_y.pkl'))\n",
    "pd.concat([test_vec, test_df['class']]).to_pickle(os.path.join(DATA_DIR, 'dbpedia_test_wv.pkl'))"
   ]
  },
  {
   "cell_type": "markdown",
   "metadata": {
    "id": "bDDhr8Npq3CD"
   },
   "source": [
    "## Generating label splits\n",
    "We're generating multiple datasets with different proportions of the training data that is labelled and unlabelled. We will be using these splits to benchmark the performance of our sem-supervised learning model:\n",
    "* Label Split 1: 2000 data pts / class (5% of dataset)\n",
    "* Label Split 2: 500 data pts / class (1.25% dataset)"
   ]
  },
  {
   "cell_type": "code",
   "execution_count": 44,
   "metadata": {
    "id": "354D-eP0Yvr8"
   },
   "outputs": [],
   "source": [
    "# reading data from pkl binary files\n",
    "import os\n",
    "import pickle\n",
    "import pandas as pd\n",
    "import numpy as np\n",
    "\n",
    "train_df = pd.read_pickle(os.path.join(DATA_DIR, 'dbpedia_train_wv.pkl'))\n",
    "train_vec = pd.read_pickle(os.path.join(DATA_DIR, 'dbpedia_train_all_x.pkl'))"
   ]
  },
  {
   "cell_type": "code",
   "execution_count": 45,
   "metadata": {
    "colab": {
     "base_uri": "https://localhost:8080/",
     "height": 333
    },
    "id": "Ah10rm15n4XT",
    "outputId": "6624a060-f817-4307-8524-13d491a2e5b0"
   },
   "outputs": [
    {
     "data": {
      "text/plain": [
       "(array([40000., 40000., 40000., 40000., 40000., 40000., 40000., 40000.,\n",
       "        40000., 40000., 40000., 40000., 80000.]),\n",
       " array([ 1,  2,  3,  4,  5,  6,  7,  8,  9, 10, 11, 12, 13, 14]),\n",
       " <BarContainer object of 13 artists>)"
      ]
     },
     "execution_count": 45,
     "metadata": {},
     "output_type": "execute_result"
    },
    {
     "data": {
      "image/png": "[encoded data removed]",
      "text/plain": [
       "<Figure size 432x288 with 1 Axes>"
      ]
     },
     "metadata": {
      "needs_background": "light"
     },
     "output_type": "display_data"
    }
   ],
   "source": [
    "import matplotlib.pyplot as plt\n",
    "\n",
    "classes = np.unique(train_df['class'])\n",
    "plt.hist(train_df['class'], bins=classes)"
   ]
  },
  {
   "cell_type": "code",
   "execution_count": 46,
   "metadata": {},
   "outputs": [
    {
     "data": {
      "text/html": [
       "<div>\n",
       "<style scoped>\n",
       "    .dataframe tbody tr th:only-of-type {\n",
       "        vertical-align: middle;\n",
       "    }\n",
       "\n",
       "    .dataframe tbody tr th {\n",
       "        vertical-align: top;\n",
       "    }\n",
       "\n",
       "    .dataframe thead th {\n",
       "        text-align: right;\n",
       "    }\n",
       "</style>\n",
       "<table border=\"1\" class=\"dataframe\">\n",
       "  <thead>\n",
       "    <tr style=\"text-align: right;\">\n",
       "      <th></th>\n",
       "      <th>0</th>\n",
       "      <th>1</th>\n",
       "      <th>2</th>\n",
       "      <th>3</th>\n",
       "      <th>4</th>\n",
       "      <th>5</th>\n",
       "      <th>6</th>\n",
       "      <th>7</th>\n",
       "      <th>8</th>\n",
       "      <th>9</th>\n",
       "      <th>...</th>\n",
       "      <th>291</th>\n",
       "      <th>292</th>\n",
       "      <th>293</th>\n",
       "      <th>294</th>\n",
       "      <th>295</th>\n",
       "      <th>296</th>\n",
       "      <th>297</th>\n",
       "      <th>298</th>\n",
       "      <th>299</th>\n",
       "      <th>text_vec</th>\n",
       "    </tr>\n",
       "  </thead>\n",
       "  <tbody>\n",
       "    <tr>\n",
       "      <th>3615</th>\n",
       "      <td>0.098823</td>\n",
       "      <td>0.123259</td>\n",
       "      <td>-0.124229</td>\n",
       "      <td>-0.201926</td>\n",
       "      <td>-0.053362</td>\n",
       "      <td>-0.352179</td>\n",
       "      <td>0.132459</td>\n",
       "      <td>0.056637</td>\n",
       "      <td>-0.038723</td>\n",
       "      <td>0.276486</td>\n",
       "      <td>...</td>\n",
       "      <td>0.069113</td>\n",
       "      <td>-0.303163</td>\n",
       "      <td>0.059698</td>\n",
       "      <td>0.093906</td>\n",
       "      <td>0.190502</td>\n",
       "      <td>-0.145364</td>\n",
       "      <td>-0.124307</td>\n",
       "      <td>-0.365310</td>\n",
       "      <td>0.199004</td>\n",
       "      <td>NaN</td>\n",
       "    </tr>\n",
       "    <tr>\n",
       "      <th>20876</th>\n",
       "      <td>-0.028990</td>\n",
       "      <td>-0.009980</td>\n",
       "      <td>-0.159153</td>\n",
       "      <td>-0.185463</td>\n",
       "      <td>-0.056336</td>\n",
       "      <td>-0.361043</td>\n",
       "      <td>0.160740</td>\n",
       "      <td>0.064434</td>\n",
       "      <td>-0.059939</td>\n",
       "      <td>0.204590</td>\n",
       "      <td>...</td>\n",
       "      <td>0.215283</td>\n",
       "      <td>-0.234558</td>\n",
       "      <td>0.174565</td>\n",
       "      <td>0.155218</td>\n",
       "      <td>0.201988</td>\n",
       "      <td>-0.230418</td>\n",
       "      <td>-0.215207</td>\n",
       "      <td>-0.202544</td>\n",
       "      <td>0.123528</td>\n",
       "      <td>NaN</td>\n",
       "    </tr>\n",
       "    <tr>\n",
       "      <th>1408</th>\n",
       "      <td>0.241497</td>\n",
       "      <td>0.174082</td>\n",
       "      <td>-0.051192</td>\n",
       "      <td>-0.252088</td>\n",
       "      <td>-0.215398</td>\n",
       "      <td>-0.393107</td>\n",
       "      <td>0.353254</td>\n",
       "      <td>0.264694</td>\n",
       "      <td>-0.105870</td>\n",
       "      <td>0.137138</td>\n",
       "      <td>...</td>\n",
       "      <td>0.041419</td>\n",
       "      <td>-0.215415</td>\n",
       "      <td>0.071415</td>\n",
       "      <td>0.087759</td>\n",
       "      <td>0.232199</td>\n",
       "      <td>-0.126035</td>\n",
       "      <td>-0.176790</td>\n",
       "      <td>-0.267857</td>\n",
       "      <td>0.138401</td>\n",
       "      <td>NaN</td>\n",
       "    </tr>\n",
       "    <tr>\n",
       "      <th>6516</th>\n",
       "      <td>0.231510</td>\n",
       "      <td>0.202784</td>\n",
       "      <td>-0.003460</td>\n",
       "      <td>-0.145731</td>\n",
       "      <td>-0.147072</td>\n",
       "      <td>-0.136671</td>\n",
       "      <td>0.165152</td>\n",
       "      <td>0.180928</td>\n",
       "      <td>-0.011031</td>\n",
       "      <td>0.236621</td>\n",
       "      <td>...</td>\n",
       "      <td>0.071131</td>\n",
       "      <td>-0.276998</td>\n",
       "      <td>0.056529</td>\n",
       "      <td>0.062647</td>\n",
       "      <td>0.318937</td>\n",
       "      <td>-0.186477</td>\n",
       "      <td>-0.243302</td>\n",
       "      <td>-0.208458</td>\n",
       "      <td>0.167562</td>\n",
       "      <td>NaN</td>\n",
       "    </tr>\n",
       "    <tr>\n",
       "      <th>4632</th>\n",
       "      <td>0.146614</td>\n",
       "      <td>0.218499</td>\n",
       "      <td>-0.121149</td>\n",
       "      <td>-0.064579</td>\n",
       "      <td>-0.094156</td>\n",
       "      <td>-0.420317</td>\n",
       "      <td>0.310276</td>\n",
       "      <td>0.133986</td>\n",
       "      <td>0.023828</td>\n",
       "      <td>0.185953</td>\n",
       "      <td>...</td>\n",
       "      <td>0.036964</td>\n",
       "      <td>-0.094330</td>\n",
       "      <td>-0.009066</td>\n",
       "      <td>0.183578</td>\n",
       "      <td>0.043248</td>\n",
       "      <td>-0.220455</td>\n",
       "      <td>-0.148722</td>\n",
       "      <td>-0.324121</td>\n",
       "      <td>0.174671</td>\n",
       "      <td>NaN</td>\n",
       "    </tr>\n",
       "    <tr>\n",
       "      <th>...</th>\n",
       "      <td>...</td>\n",
       "      <td>...</td>\n",
       "      <td>...</td>\n",
       "      <td>...</td>\n",
       "      <td>...</td>\n",
       "      <td>...</td>\n",
       "      <td>...</td>\n",
       "      <td>...</td>\n",
       "      <td>...</td>\n",
       "      <td>...</td>\n",
       "      <td>...</td>\n",
       "      <td>...</td>\n",
       "      <td>...</td>\n",
       "      <td>...</td>\n",
       "      <td>...</td>\n",
       "      <td>...</td>\n",
       "      <td>...</td>\n",
       "      <td>...</td>\n",
       "      <td>...</td>\n",
       "      <td>...</td>\n",
       "      <td>...</td>\n",
       "    </tr>\n",
       "    <tr>\n",
       "      <th>541041</th>\n",
       "      <td>0.295498</td>\n",
       "      <td>0.050380</td>\n",
       "      <td>-0.019490</td>\n",
       "      <td>-0.322956</td>\n",
       "      <td>-0.199220</td>\n",
       "      <td>-0.081211</td>\n",
       "      <td>0.238051</td>\n",
       "      <td>0.191839</td>\n",
       "      <td>0.072735</td>\n",
       "      <td>0.273592</td>\n",
       "      <td>...</td>\n",
       "      <td>0.057061</td>\n",
       "      <td>-0.206660</td>\n",
       "      <td>0.064773</td>\n",
       "      <td>0.007946</td>\n",
       "      <td>0.314043</td>\n",
       "      <td>-0.105267</td>\n",
       "      <td>-0.361848</td>\n",
       "      <td>-0.196275</td>\n",
       "      <td>0.206427</td>\n",
       "      <td>NaN</td>\n",
       "    </tr>\n",
       "    <tr>\n",
       "      <th>555702</th>\n",
       "      <td>0.199347</td>\n",
       "      <td>-0.082539</td>\n",
       "      <td>0.007432</td>\n",
       "      <td>-0.379936</td>\n",
       "      <td>-0.141194</td>\n",
       "      <td>-0.132088</td>\n",
       "      <td>0.267515</td>\n",
       "      <td>0.309471</td>\n",
       "      <td>0.008967</td>\n",
       "      <td>0.154896</td>\n",
       "      <td>...</td>\n",
       "      <td>0.098342</td>\n",
       "      <td>-0.161676</td>\n",
       "      <td>0.125211</td>\n",
       "      <td>0.029346</td>\n",
       "      <td>0.281684</td>\n",
       "      <td>-0.151593</td>\n",
       "      <td>-0.228862</td>\n",
       "      <td>-0.119803</td>\n",
       "      <td>0.188390</td>\n",
       "      <td>NaN</td>\n",
       "    </tr>\n",
       "    <tr>\n",
       "      <th>527785</th>\n",
       "      <td>0.165815</td>\n",
       "      <td>0.105254</td>\n",
       "      <td>-0.026658</td>\n",
       "      <td>-0.192110</td>\n",
       "      <td>-0.152640</td>\n",
       "      <td>-0.081904</td>\n",
       "      <td>0.095401</td>\n",
       "      <td>0.143545</td>\n",
       "      <td>-0.002483</td>\n",
       "      <td>0.185291</td>\n",
       "      <td>...</td>\n",
       "      <td>0.081052</td>\n",
       "      <td>-0.043643</td>\n",
       "      <td>0.078491</td>\n",
       "      <td>0.100219</td>\n",
       "      <td>0.127774</td>\n",
       "      <td>-0.068161</td>\n",
       "      <td>-0.089514</td>\n",
       "      <td>-0.171730</td>\n",
       "      <td>0.093184</td>\n",
       "      <td>NaN</td>\n",
       "    </tr>\n",
       "    <tr>\n",
       "      <th>533193</th>\n",
       "      <td>0.259417</td>\n",
       "      <td>0.144218</td>\n",
       "      <td>-0.001619</td>\n",
       "      <td>-0.383171</td>\n",
       "      <td>-0.422604</td>\n",
       "      <td>0.077478</td>\n",
       "      <td>0.359156</td>\n",
       "      <td>0.357677</td>\n",
       "      <td>0.072535</td>\n",
       "      <td>0.315306</td>\n",
       "      <td>...</td>\n",
       "      <td>0.199681</td>\n",
       "      <td>-0.089557</td>\n",
       "      <td>0.076634</td>\n",
       "      <td>0.058800</td>\n",
       "      <td>0.369157</td>\n",
       "      <td>-0.096915</td>\n",
       "      <td>-0.296347</td>\n",
       "      <td>-0.270312</td>\n",
       "      <td>0.276559</td>\n",
       "      <td>NaN</td>\n",
       "    </tr>\n",
       "    <tr>\n",
       "      <th>547029</th>\n",
       "      <td>0.309538</td>\n",
       "      <td>0.306560</td>\n",
       "      <td>-0.020409</td>\n",
       "      <td>-0.197686</td>\n",
       "      <td>-0.104478</td>\n",
       "      <td>-0.191195</td>\n",
       "      <td>0.193154</td>\n",
       "      <td>0.241743</td>\n",
       "      <td>-0.090183</td>\n",
       "      <td>-0.012824</td>\n",
       "      <td>...</td>\n",
       "      <td>-0.090372</td>\n",
       "      <td>-0.219394</td>\n",
       "      <td>-0.106331</td>\n",
       "      <td>0.053172</td>\n",
       "      <td>0.266831</td>\n",
       "      <td>-0.249029</td>\n",
       "      <td>-0.141233</td>\n",
       "      <td>-0.245267</td>\n",
       "      <td>0.023702</td>\n",
       "      <td>NaN</td>\n",
       "    </tr>\n",
       "  </tbody>\n",
       "</table>\n",
       "<p>28000 rows × 301 columns</p>\n",
       "</div>"
      ],
      "text/plain": [
       "               0         1         2         3         4         5         6  \\\n",
       "3615    0.098823  0.123259 -0.124229 -0.201926 -0.053362 -0.352179  0.132459   \n",
       "20876  -0.028990 -0.009980 -0.159153 -0.185463 -0.056336 -0.361043  0.160740   \n",
       "1408    0.241497  0.174082 -0.051192 -0.252088 -0.215398 -0.393107  0.353254   \n",
       "6516    0.231510  0.202784 -0.003460 -0.145731 -0.147072 -0.136671  0.165152   \n",
       "4632    0.146614  0.218499 -0.121149 -0.064579 -0.094156 -0.420317  0.310276   \n",
       "...          ...       ...       ...       ...       ...       ...       ...   \n",
       "541041  0.295498  0.050380 -0.019490 -0.322956 -0.199220 -0.081211  0.238051   \n",
       "555702  0.199347 -0.082539  0.007432 -0.379936 -0.141194 -0.132088  0.267515   \n",
       "527785  0.165815  0.105254 -0.026658 -0.192110 -0.152640 -0.081904  0.095401   \n",
       "533193  0.259417  0.144218 -0.001619 -0.383171 -0.422604  0.077478  0.359156   \n",
       "547029  0.309538  0.306560 -0.020409 -0.197686 -0.104478 -0.191195  0.193154   \n",
       "\n",
       "               7         8         9  ...       291       292       293  \\\n",
       "3615    0.056637 -0.038723  0.276486  ...  0.069113 -0.303163  0.059698   \n",
       "20876   0.064434 -0.059939  0.204590  ...  0.215283 -0.234558  0.174565   \n",
       "1408    0.264694 -0.105870  0.137138  ...  0.041419 -0.215415  0.071415   \n",
       "6516    0.180928 -0.011031  0.236621  ...  0.071131 -0.276998  0.056529   \n",
       "4632    0.133986  0.023828  0.185953  ...  0.036964 -0.094330 -0.009066   \n",
       "...          ...       ...       ...  ...       ...       ...       ...   \n",
       "541041  0.191839  0.072735  0.273592  ...  0.057061 -0.206660  0.064773   \n",
       "555702  0.309471  0.008967  0.154896  ...  0.098342 -0.161676  0.125211   \n",
       "527785  0.143545 -0.002483  0.185291  ...  0.081052 -0.043643  0.078491   \n",
       "533193  0.357677  0.072535  0.315306  ...  0.199681 -0.089557  0.076634   \n",
       "547029  0.241743 -0.090183 -0.012824  ... -0.090372 -0.219394 -0.106331   \n",
       "\n",
       "             294       295       296       297       298       299  text_vec  \n",
       "3615    0.093906  0.190502 -0.145364 -0.124307 -0.365310  0.199004       NaN  \n",
       "20876   0.155218  0.201988 -0.230418 -0.215207 -0.202544  0.123528       NaN  \n",
       "1408    0.087759  0.232199 -0.126035 -0.176790 -0.267857  0.138401       NaN  \n",
       "6516    0.062647  0.318937 -0.186477 -0.243302 -0.208458  0.167562       NaN  \n",
       "4632    0.183578  0.043248 -0.220455 -0.148722 -0.324121  0.174671       NaN  \n",
       "...          ...       ...       ...       ...       ...       ...       ...  \n",
       "541041  0.007946  0.314043 -0.105267 -0.361848 -0.196275  0.206427       NaN  \n",
       "555702  0.029346  0.281684 -0.151593 -0.228862 -0.119803  0.188390       NaN  \n",
       "527785  0.100219  0.127774 -0.068161 -0.089514 -0.171730  0.093184       NaN  \n",
       "533193  0.058800  0.369157 -0.096915 -0.296347 -0.270312  0.276559       NaN  \n",
       "547029  0.053172  0.266831 -0.249029 -0.141233 -0.245267  0.023702       NaN  \n",
       "\n",
       "[28000 rows x 301 columns]"
      ]
     },
     "execution_count": 46,
     "metadata": {},
     "output_type": "execute_result"
    }
   ],
   "source": [
    "num_per_class_label_split1 = 2000\n",
    "num_per_class_label_split2 = 500\n",
    "\n",
    "# final dataframes\n",
    "x_split1_df, y_split1_df = pd.DataFrame(columns=['text_vec']), pd.DataFrame(columns=['class'])\n",
    "x_split2_df, y_split2_df = pd.DataFrame(columns=['text_vec']), pd.DataFrame(columns=['class'])\n",
    "\n",
    "classes = np.unique(train_df['class'])\n",
    "for c in classes:\n",
    "    c_idx = np.where(train_df['class'] == c)[0]\n",
    "    # generating split 1\n",
    "    split1_idx = random.sample(c_idx.tolist(), num_per_class_label_split1)\n",
    "    x_split1_df = x_split1_df.append(pd.DataFrame(train_vec.iloc[split1_idx]))\n",
    "    y_split1_df = y_split1_df.append(pd.DataFrame(train_df['class'].iloc[split1_idx]))\n",
    "    # generating split 2\n",
    "    split2_idx = random.sample(c_idx.tolist(), num_per_class_label_split2)\n",
    "    x_split2_df = x_split2_df.append(pd.DataFrame(train_vec.iloc[split2_idx]))\n",
    "    y_split2_df = y_split2_df.append(pd.DataFrame(train_df['class'].iloc[split2_idx]))\n",
    "\n",
    "x_split1_df"
   ]
  },
  {
   "cell_type": "code",
   "execution_count": 50,
   "metadata": {
    "id": "fIqoY4Dmrqg8"
   },
   "outputs": [],
   "source": [
    "import random\n",
    "\n",
    "def generate_label_splits(train_df, train_vec):\n",
    "    \"\"\"\n",
    "    Function to generate the label splits\n",
    "    \"\"\"\n",
    "    num_per_class_label_split1 = 2000\n",
    "    num_per_class_label_split2 = 500\n",
    "\n",
    "    # final dataframes\n",
    "    x_split1_df, y_split1_df = pd.DataFrame(), pd.DataFrame()\n",
    "    x_split2_df, y_split2_df = pd.DataFrame(), pd.DataFrame()\n",
    "\n",
    "    classes = np.unique(train_df['class'])\n",
    "    for c in classes:\n",
    "        c_idx = np.where(train_df['class'] == c)[0]\n",
    "        # generating split 1\n",
    "        split1_idx = random.sample(c_idx.tolist(), num_per_class_label_split1)\n",
    "        x_split1_df = x_split1_df.append(pd.DataFrame(train_vec.iloc[split1_idx]))\n",
    "        y_split1_df = y_split1_df.append(pd.DataFrame(train_df['class'].iloc[split1_idx]))\n",
    "        # generating split 2\n",
    "        split2_idx = random.sample(c_idx.tolist(), num_per_class_label_split2)\n",
    "        x_split2_df = x_split2_df.append(pd.DataFrame(train_vec.iloc[split2_idx]))\n",
    "        y_split2_df = y_split2_df.append(pd.DataFrame(train_df['class'].iloc[split2_idx]))\n",
    "\n",
    "    x_split1_df.to_pickle(os.path.join(DATA_DIR, 'dbpedia_train_x_split1.pkl'))\n",
    "    y_split1_df.to_pickle(os.path.join(DATA_DIR, 'dbpedia_train_y_split1.pkl'))\n",
    "    x_split2_df.to_pickle(os.path.join(DATA_DIR, 'dbpedia_train_x_split2.pkl'))\n",
    "    y_split2_df.to_pickle(os.path.join(DATA_DIR, 'dbpedia_train_y_split2.pkl'))\n",
    "\n",
    "generate_label_splits(train_df, train_vec)"
   ]
  },
  {
   "cell_type": "code",
   "execution_count": null,
   "metadata": {
    "id": "0l87jlA2TJ1E"
   },
   "outputs": [],
   "source": []
  }
 ],
 "metadata": {
  "colab": {
   "name": "preprocess_dbpedia.ipynb",
   "provenance": [],
   "toc_visible": true
  },
  "kernelspec": {
   "display_name": "Python 3",
   "language": "python",
   "name": "python3"
  },
  "language_info": {
   "codemirror_mode": {
    "name": "ipython",
    "version": 3
   },
   "file_extension": ".py",
   "mimetype": "text/x-python",
   "name": "python",
   "nbconvert_exporter": "python",
   "pygments_lexer": "ipython3",
   "version": "3.7.3"
  }
 },
 "nbformat": 4,
 "nbformat_minor": 4
}
