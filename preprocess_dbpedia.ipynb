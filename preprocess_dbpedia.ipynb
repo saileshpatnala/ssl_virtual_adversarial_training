{
 "cells": [
  {
   "cell_type": "markdown",
   "metadata": {
    "id": "OlDHfWAaU98q"
   },
   "source": [
    "## Loading the data"
   ]
  },
  {
   "cell_type": "code",
   "execution_count": 14,
   "metadata": {
    "colab": {
     "base_uri": "https://localhost:8080/",
     "height": 425
    },
    "id": "HqNQQdwbIVGF",
    "outputId": "25bd16fd-7053-4187-c22e-1300c4b4913a"
   },
   "outputs": [
    {
     "data": {
      "text/html": [
       "<div>\n",
       "<style scoped>\n",
       "    .dataframe tbody tr th:only-of-type {\n",
       "        vertical-align: middle;\n",
       "    }\n",
       "\n",
       "    .dataframe tbody tr th {\n",
       "        vertical-align: top;\n",
       "    }\n",
       "\n",
       "    .dataframe thead th {\n",
       "        text-align: right;\n",
       "    }\n",
       "</style>\n",
       "<table border=\"1\" class=\"dataframe\">\n",
       "  <thead>\n",
       "    <tr style=\"text-align: right;\">\n",
       "      <th></th>\n",
       "      <th>class</th>\n",
       "      <th>title</th>\n",
       "      <th>text</th>\n",
       "    </tr>\n",
       "  </thead>\n",
       "  <tbody>\n",
       "    <tr>\n",
       "      <th>0</th>\n",
       "      <td>1</td>\n",
       "      <td>E. D. Abbott Ltd</td>\n",
       "      <td>Abbott of Farnham E D Abbott Limited was a Br...</td>\n",
       "    </tr>\n",
       "    <tr>\n",
       "      <th>1</th>\n",
       "      <td>1</td>\n",
       "      <td>Schwan-Stabilo</td>\n",
       "      <td>Schwan-STABILO is a German maker of pens for ...</td>\n",
       "    </tr>\n",
       "    <tr>\n",
       "      <th>2</th>\n",
       "      <td>1</td>\n",
       "      <td>Q-workshop</td>\n",
       "      <td>Q-workshop is a Polish company located in Poz...</td>\n",
       "    </tr>\n",
       "    <tr>\n",
       "      <th>3</th>\n",
       "      <td>1</td>\n",
       "      <td>Marvell Software Solutions Israel</td>\n",
       "      <td>Marvell Software Solutions Israel known as RA...</td>\n",
       "    </tr>\n",
       "    <tr>\n",
       "      <th>4</th>\n",
       "      <td>1</td>\n",
       "      <td>Bergan Mercy Medical Center</td>\n",
       "      <td>Bergan Mercy Medical Center is a hospital loc...</td>\n",
       "    </tr>\n",
       "  </tbody>\n",
       "</table>\n",
       "</div>"
      ],
      "text/plain": [
       "   class  ...                                               text\n",
       "0      1  ...   Abbott of Farnham E D Abbott Limited was a Br...\n",
       "1      1  ...   Schwan-STABILO is a German maker of pens for ...\n",
       "2      1  ...   Q-workshop is a Polish company located in Poz...\n",
       "3      1  ...   Marvell Software Solutions Israel known as RA...\n",
       "4      1  ...   Bergan Mercy Medical Center is a hospital loc...\n",
       "\n",
       "[5 rows x 3 columns]"
      ]
     },
     "metadata": {
      "tags": []
     },
     "output_type": "display_data"
    },
    {
     "data": {
      "text/plain": [
       "(560000, 3)"
      ]
     },
     "metadata": {
      "tags": []
     },
     "output_type": "display_data"
    },
    {
     "data": {
      "text/html": [
       "<div>\n",
       "<style scoped>\n",
       "    .dataframe tbody tr th:only-of-type {\n",
       "        vertical-align: middle;\n",
       "    }\n",
       "\n",
       "    .dataframe tbody tr th {\n",
       "        vertical-align: top;\n",
       "    }\n",
       "\n",
       "    .dataframe thead th {\n",
       "        text-align: right;\n",
       "    }\n",
       "</style>\n",
       "<table border=\"1\" class=\"dataframe\">\n",
       "  <thead>\n",
       "    <tr style=\"text-align: right;\">\n",
       "      <th></th>\n",
       "      <th>class</th>\n",
       "      <th>title</th>\n",
       "      <th>text</th>\n",
       "    </tr>\n",
       "  </thead>\n",
       "  <tbody>\n",
       "    <tr>\n",
       "      <th>0</th>\n",
       "      <td>1</td>\n",
       "      <td>TY KU</td>\n",
       "      <td>TY KU /taɪkuː/ is an American alcoholic bever...</td>\n",
       "    </tr>\n",
       "    <tr>\n",
       "      <th>1</th>\n",
       "      <td>1</td>\n",
       "      <td>Odd Lot Entertainment</td>\n",
       "      <td>OddLot Entertainment founded in 2001 by longt...</td>\n",
       "    </tr>\n",
       "    <tr>\n",
       "      <th>2</th>\n",
       "      <td>1</td>\n",
       "      <td>Henkel</td>\n",
       "      <td>Henkel AG &amp; Company KGaA operates worldwide w...</td>\n",
       "    </tr>\n",
       "    <tr>\n",
       "      <th>3</th>\n",
       "      <td>1</td>\n",
       "      <td>GOAT Store</td>\n",
       "      <td>The GOAT Store (Games Of All Type Store) LLC ...</td>\n",
       "    </tr>\n",
       "    <tr>\n",
       "      <th>4</th>\n",
       "      <td>1</td>\n",
       "      <td>RagWing Aircraft Designs</td>\n",
       "      <td>RagWing Aircraft Designs (also called the Rag...</td>\n",
       "    </tr>\n",
       "  </tbody>\n",
       "</table>\n",
       "</div>"
      ],
      "text/plain": [
       "   class  ...                                               text\n",
       "0      1  ...   TY KU /taɪkuː/ is an American alcoholic bever...\n",
       "1      1  ...   OddLot Entertainment founded in 2001 by longt...\n",
       "2      1  ...   Henkel AG & Company KGaA operates worldwide w...\n",
       "3      1  ...   The GOAT Store (Games Of All Type Store) LLC ...\n",
       "4      1  ...   RagWing Aircraft Designs (also called the Rag...\n",
       "\n",
       "[5 rows x 3 columns]"
      ]
     },
     "metadata": {
      "tags": []
     },
     "output_type": "display_data"
    },
    {
     "data": {
      "text/plain": [
       "(70000, 3)"
      ]
     },
     "metadata": {
      "tags": []
     },
     "output_type": "display_data"
    }
   ],
   "source": [
    "import os\n",
    "import pandas as pd\n",
    "import numpy as np\n",
    "\n",
    "DBPEDIA_DIR = 'data/dbpedia_csv'\n",
    "DATA_DIR = 'data'\n",
    "\n",
    "train_data_path = os.path.join(DBPEDIA_DIR, 'train.csv')\n",
    "test_data_path = os.path.join(DBPEDIA_DIR, 'test.csv')\n",
    "\n",
    "train_df = pd.read_csv(train_data_path, header=None, names=['class', 'title', 'text'])\n",
    "display(train_df.head())\n",
    "display(train_df.shape)\n",
    "test_df = pd.read_csv(test_data_path, header=None, names=['class', 'title', 'text'])\n",
    "display(test_df.head())\n",
    "display(test_df.shape)"
   ]
  },
  {
   "cell_type": "markdown",
   "metadata": {
    "id": "1JvTcowXVCo7"
   },
   "source": [
    "## Preprocessing text"
   ]
  },
  {
   "cell_type": "code",
   "execution_count": 15,
   "metadata": {
    "colab": {
     "base_uri": "https://localhost:8080/"
    },
    "id": "u63DCDBhI7ZT",
    "outputId": "bef36b6d-a6ef-4367-ec37-25b0f00b6891"
   },
   "outputs": [
    {
     "name": "stdout",
     "output_type": "stream",
     "text": [
      "[nltk_data] Downloading package wordnet to /root/nltk_data...\n",
      "[nltk_data]   Unzipping corpora/wordnet.zip.\n",
      "[nltk_data] Downloading package stopwords to /root/nltk_data...\n",
      "[nltk_data]   Unzipping corpora/stopwords.zip.\n"
     ]
    },
    {
     "data": {
      "text/plain": [
       "True"
      ]
     },
     "execution_count": 15,
     "metadata": {
      "tags": []
     },
     "output_type": "execute_result"
    }
   ],
   "source": [
    "import nltk\n",
    "nltk.download('wordnet')\n",
    "nltk.download('stopwords')"
   ]
  },
  {
   "cell_type": "code",
   "execution_count": 16,
   "metadata": {
    "colab": {
     "base_uri": "https://localhost:8080/",
     "height": 204
    },
    "id": "MTON9sDqJFou",
    "outputId": "c19a2d1a-1a3c-4376-ed75-35fa3486f4f5"
   },
   "outputs": [
    {
     "data": {
      "text/html": [
       "<div>\n",
       "<style scoped>\n",
       "    .dataframe tbody tr th:only-of-type {\n",
       "        vertical-align: middle;\n",
       "    }\n",
       "\n",
       "    .dataframe tbody tr th {\n",
       "        vertical-align: top;\n",
       "    }\n",
       "\n",
       "    .dataframe thead th {\n",
       "        text-align: right;\n",
       "    }\n",
       "</style>\n",
       "<table border=\"1\" class=\"dataframe\">\n",
       "  <thead>\n",
       "    <tr style=\"text-align: right;\">\n",
       "      <th></th>\n",
       "      <th>class</th>\n",
       "      <th>title</th>\n",
       "      <th>text</th>\n",
       "      <th>preprocess_text</th>\n",
       "    </tr>\n",
       "  </thead>\n",
       "  <tbody>\n",
       "    <tr>\n",
       "      <th>0</th>\n",
       "      <td>1</td>\n",
       "      <td>TY KU</td>\n",
       "      <td>TY KU /taɪkuː/ is an American alcoholic bever...</td>\n",
       "      <td>[taɪkuː, american, alcoholic, beverage, compan...</td>\n",
       "    </tr>\n",
       "    <tr>\n",
       "      <th>1</th>\n",
       "      <td>1</td>\n",
       "      <td>Odd Lot Entertainment</td>\n",
       "      <td>OddLot Entertainment founded in 2001 by longt...</td>\n",
       "      <td>[oddlot, entertainment, found, longtime, produ...</td>\n",
       "    </tr>\n",
       "    <tr>\n",
       "      <th>2</th>\n",
       "      <td>1</td>\n",
       "      <td>Henkel</td>\n",
       "      <td>Henkel AG &amp; Company KGaA operates worldwide w...</td>\n",
       "      <td>[henkel, company, kgaa, operate, worldwide, le...</td>\n",
       "    </tr>\n",
       "    <tr>\n",
       "      <th>3</th>\n",
       "      <td>1</td>\n",
       "      <td>GOAT Store</td>\n",
       "      <td>The GOAT Store (Games Of All Type Store) LLC ...</td>\n",
       "      <td>[goat, store, game, type, store, llc, one, lar...</td>\n",
       "    </tr>\n",
       "    <tr>\n",
       "      <th>4</th>\n",
       "      <td>1</td>\n",
       "      <td>RagWing Aircraft Designs</td>\n",
       "      <td>RagWing Aircraft Designs (also called the Rag...</td>\n",
       "      <td>[ragwing, aircraft, design, also, call, ragwin...</td>\n",
       "    </tr>\n",
       "  </tbody>\n",
       "</table>\n",
       "</div>"
      ],
      "text/plain": [
       "   class  ...                                    preprocess_text\n",
       "0      1  ...  [taɪkuː, american, alcoholic, beverage, compan...\n",
       "1      1  ...  [oddlot, entertainment, found, longtime, produ...\n",
       "2      1  ...  [henkel, company, kgaa, operate, worldwide, le...\n",
       "3      1  ...  [goat, store, game, type, store, llc, one, lar...\n",
       "4      1  ...  [ragwing, aircraft, design, also, call, ragwin...\n",
       "\n",
       "[5 rows x 4 columns]"
      ]
     },
     "execution_count": 16,
     "metadata": {
      "tags": []
     },
     "output_type": "execute_result"
    }
   ],
   "source": [
    "import re\n",
    "from nltk.tokenize import RegexpTokenizer\n",
    "from nltk.stem import WordNetLemmatizer\n",
    "from nltk.corpus import stopwords \n",
    "\n",
    "def preprocess_text(text):\n",
    "    # removing numbers\n",
    "    text = re.sub('[0-9]+', '', text)\n",
    "    \n",
    "    # removing urls\n",
    "    text = re.sub(r'http\\S+', '', text)\n",
    "    \n",
    "    # removing punctuation and special characters\n",
    "    tokenizer = RegexpTokenizer(r'\\w+')\n",
    "    tokens = tokenizer.tokenize(text)\n",
    "    \n",
    "    # convert to lowercase and lemmatize\n",
    "    lemmatizer = WordNetLemmatizer()\n",
    "    lemmas = [lemmatizer.lemmatize(token.lower(), pos='v') for token in tokens]\n",
    "    \n",
    "    # remove stop words\n",
    "    keywords= [lemma for lemma in lemmas if lemma not in stopwords.words('english')]\n",
    "    \n",
    "    # remove small words\n",
    "    keywords = [word for word in keywords if len(word) > 2]\n",
    "    \n",
    "    return keywords\n",
    "\n",
    "train_df['preprocess_text'] = train_df.text.apply(preprocess_text)\n",
    "test_df['preprocess_text'] = test_df.text.apply(preprocess_text)\n",
    "train_df.head()\n",
    "test_df.head()"
   ]
  },
  {
   "cell_type": "markdown",
   "metadata": {
    "id": "yX2Kc31kVMt2"
   },
   "source": [
    "## Generating word embeddings"
   ]
  },
  {
   "cell_type": "code",
   "execution_count": null,
   "metadata": {
    "colab": {
     "base_uri": "https://localhost:8080/"
    },
    "id": "5RPLEKlJJIVA",
    "outputId": "f970a1b1-99e6-4392-c52d-655fad9a9b29"
   },
   "outputs": [
    {
     "data": {
      "text/plain": [
       "(672056, 300)"
      ]
     },
     "execution_count": 8,
     "metadata": {
      "tags": []
     },
     "output_type": "execute_result"
    }
   ],
   "source": [
    "from gensim.models import Word2Vec\n",
    "\n",
    "all_text = pd.concat([train_df.preprocess_text, test_df.preprocess_text], axis=0)\n",
    "w2v_model = Word2Vec(sentences=all_text, size=300, min_count=1, window=5, workers=4, sg=1)\n",
    "w2v_model.wv.vectors.shape"
   ]
  },
  {
   "cell_type": "markdown",
   "metadata": {
    "id": "_vzRVRvlmgsA"
   },
   "source": [
    "Saving the word embeddings"
   ]
  },
  {
   "cell_type": "code",
   "execution_count": null,
   "metadata": {
    "id": "NqpZpMZxJXNu"
   },
   "outputs": [],
   "source": [
    "w2v_model.wv.save(os.path.join(DATA_DIR, 'dbpedia.wordembeddings'))"
   ]
  },
  {
   "cell_type": "markdown",
   "metadata": {
    "id": "xIKufmOtmvjJ"
   },
   "source": [
    "## Generating word vectors for text\n",
    "Loading word embeddings"
   ]
  },
  {
   "cell_type": "code",
   "execution_count": 17,
   "metadata": {
    "colab": {
     "base_uri": "https://localhost:8080/",
     "height": 419
    },
    "id": "fUFOYve9V0LE",
    "outputId": "2ee20357-11d3-4ee5-926d-e5393e14b5b8"
   },
   "outputs": [
    {
     "data": {
      "text/html": [
       "<div>\n",
       "<style scoped>\n",
       "    .dataframe tbody tr th:only-of-type {\n",
       "        vertical-align: middle;\n",
       "    }\n",
       "\n",
       "    .dataframe tbody tr th {\n",
       "        vertical-align: top;\n",
       "    }\n",
       "\n",
       "    .dataframe thead th {\n",
       "        text-align: right;\n",
       "    }\n",
       "</style>\n",
       "<table border=\"1\" class=\"dataframe\">\n",
       "  <thead>\n",
       "    <tr style=\"text-align: right;\">\n",
       "      <th></th>\n",
       "      <th>text_vec</th>\n",
       "      <th>class</th>\n",
       "    </tr>\n",
       "  </thead>\n",
       "  <tbody>\n",
       "    <tr>\n",
       "      <th>0</th>\n",
       "      <td>[[0.14539934198974686, 0.12077933725188761, -0...</td>\n",
       "      <td>1</td>\n",
       "    </tr>\n",
       "    <tr>\n",
       "      <th>1</th>\n",
       "      <td>[[0.17643223330378532, 0.046283949711700766, -...</td>\n",
       "      <td>1</td>\n",
       "    </tr>\n",
       "    <tr>\n",
       "      <th>2</th>\n",
       "      <td>[[0.12377960653975606, 0.0881067788771664, -0....</td>\n",
       "      <td>1</td>\n",
       "    </tr>\n",
       "    <tr>\n",
       "      <th>3</th>\n",
       "      <td>[[0.05970577464904636, 0.13701889221556485, -0...</td>\n",
       "      <td>1</td>\n",
       "    </tr>\n",
       "    <tr>\n",
       "      <th>4</th>\n",
       "      <td>[[0.09968144951486274, -0.015847527912180675, ...</td>\n",
       "      <td>1</td>\n",
       "    </tr>\n",
       "    <tr>\n",
       "      <th>...</th>\n",
       "      <td>...</td>\n",
       "      <td>...</td>\n",
       "    </tr>\n",
       "    <tr>\n",
       "      <th>69995</th>\n",
       "      <td>[[0.21751869964240075, 0.11445621912757498, -0...</td>\n",
       "      <td>14</td>\n",
       "    </tr>\n",
       "    <tr>\n",
       "      <th>69996</th>\n",
       "      <td>[[0.08986973749207598, -0.03564547627632107, -...</td>\n",
       "      <td>14</td>\n",
       "    </tr>\n",
       "    <tr>\n",
       "      <th>69997</th>\n",
       "      <td>[[0.2279204372316599, -0.09692106769320422, 0....</td>\n",
       "      <td>14</td>\n",
       "    </tr>\n",
       "    <tr>\n",
       "      <th>69998</th>\n",
       "      <td>[[0.1286562429741025, 0.03627264947863296, -0....</td>\n",
       "      <td>14</td>\n",
       "    </tr>\n",
       "    <tr>\n",
       "      <th>69999</th>\n",
       "      <td>[[0.19977391041307288, -0.06254904719770077, 0...</td>\n",
       "      <td>14</td>\n",
       "    </tr>\n",
       "  </tbody>\n",
       "</table>\n",
       "<p>70000 rows × 2 columns</p>\n",
       "</div>"
      ],
      "text/plain": [
       "                                                text_vec  class\n",
       "0      [[0.14539934198974686, 0.12077933725188761, -0...      1\n",
       "1      [[0.17643223330378532, 0.046283949711700766, -...      1\n",
       "2      [[0.12377960653975606, 0.0881067788771664, -0....      1\n",
       "3      [[0.05970577464904636, 0.13701889221556485, -0...      1\n",
       "4      [[0.09968144951486274, -0.015847527912180675, ...      1\n",
       "...                                                  ...    ...\n",
       "69995  [[0.21751869964240075, 0.11445621912757498, -0...     14\n",
       "69996  [[0.08986973749207598, -0.03564547627632107, -...     14\n",
       "69997  [[0.2279204372316599, -0.09692106769320422, 0....     14\n",
       "69998  [[0.1286562429741025, 0.03627264947863296, -0....     14\n",
       "69999  [[0.19977391041307288, -0.06254904719770077, 0...     14\n",
       "\n",
       "[70000 rows x 2 columns]"
      ]
     },
     "execution_count": 17,
     "metadata": {
      "tags": []
     },
     "output_type": "execute_result"
    }
   ],
   "source": [
    "from gensim.models import KeyedVectors\n",
    "\n",
    "word_vectors = KeyedVectors.load(os.path.join(DATA_DIR, 'dbpedia.wordembeddings'), mmap='r')\n",
    "\n",
    "def vectorize_text(text, wv):\n",
    "    \"\"\"\n",
    "    Function to vectorize text by averaging the word vectors \n",
    "    for each word in the text\n",
    "    \"\"\"\n",
    "    vec = np.zeros((1, 300))\n",
    "    for w in text:\n",
    "        vec += wv.get_vector(w)\n",
    "\n",
    "    return vec / len(text)\n",
    "\n",
    "train_df['text_vec'] = train_df.preprocess_text.apply(vectorize_text, args=(word_vectors,))\n",
    "test_df['text_vec'] = test_df.preprocess_text.apply(vectorize_text, args=(word_vectors,)) \n",
    "\n",
    "test_df[['text_vec', 'class']]"
   ]
  },
  {
   "cell_type": "code",
   "execution_count": null,
   "metadata": {
    "colab": {
     "base_uri": "https://localhost:8080/"
    },
    "id": "O6OkTTtHY9U6",
    "outputId": "6d71c391-7e54-436c-b83a-e15212fa4b4f"
   },
   "outputs": [
    {
     "data": {
      "text/plain": [
       "0        [[0.14539934198974686, 0.12077933725188761, -0...\n",
       "1        [[0.17643223330378532, 0.046283949711700766, -...\n",
       "2        [[0.12377960653975606, 0.0881067788771664, -0....\n",
       "3        [[0.05970577464904636, 0.13701889221556485, -0...\n",
       "4        [[0.09968144951486274, -0.015847527912180675, ...\n",
       "                               ...                        \n",
       "69995    [[0.21751869964240075, 0.11445621912757498, -0...\n",
       "69996    [[0.08986973749207598, -0.03564547627632107, -...\n",
       "69997    [[0.2279204372316599, -0.09692106769320422, 0....\n",
       "69998    [[0.1286562429741025, 0.03627264947863296, -0....\n",
       "69999    [[0.19977391041307288, -0.06254904719770077, 0...\n",
       "Name: text_vec, Length: 70000, dtype: object"
      ]
     },
     "execution_count": 18,
     "metadata": {
      "tags": []
     },
     "output_type": "execute_result"
    }
   ],
   "source": [
    "test_df.text_vec"
   ]
  },
  {
   "cell_type": "code",
   "execution_count": 18,
   "metadata": {
    "id": "KvltynFAn03a"
   },
   "outputs": [],
   "source": [
    "pd.DataFrame(train_df.text_vec).to_pickle(os.path.join(DATA_DIR, 'dbpedia_train_all_x.pkl'))\n",
    "pd.DataFrame(train_df['class']).to_pickle(os.path.join(DATA_DIR, 'dbpedia_train_all_y.pkl'))\n",
    "pd.DataFrame(test_df.text_vec).to_pickle(os.path.join(DATA_DIR, 'dbpedia_test_wv.pkl'))"
   ]
  },
  {
   "cell_type": "markdown",
   "metadata": {
    "id": "bDDhr8Npq3CD"
   },
   "source": [
    "## Generating label splits\n",
    "We're generating multiple datasets with different proportions of the training data that is labelled and unlabelled. We will be using these splits to benchmark the performance of our sem-supervised learning model:\n",
    "* Label Split 1: 2000 data pts / class (5% of dataset)\n",
    "* Label Split 2: 500 data pts / class (1.25% dataset)"
   ]
  },
  {
   "cell_type": "code",
   "execution_count": 10,
   "metadata": {
    "id": "354D-eP0Yvr8"
   },
   "outputs": [],
   "source": [
    "# reading data from pkl binary files\n",
    "import os\n",
    "import pickle\n",
    "import pandas as pd\n",
    "import numpy as np\n",
    "\n",
    "with open(os.path.join(DATA_DIR, 'dbpedia_train_wv.pkl'), 'rb') as f:\n",
    "    train_df = pickle.load(f)"
   ]
  },
  {
   "cell_type": "code",
   "execution_count": 11,
   "metadata": {
    "colab": {
     "base_uri": "https://localhost:8080/",
     "height": 333
    },
    "id": "Ah10rm15n4XT",
    "outputId": "6624a060-f817-4307-8524-13d491a2e5b0"
   },
   "outputs": [
    {
     "data": {
      "text/plain": [
       "(array([40000., 40000., 40000., 40000., 40000., 40000., 40000., 40000.,\n",
       "        40000., 40000., 40000., 40000., 80000.]),\n",
       " array([ 1,  2,  3,  4,  5,  6,  7,  8,  9, 10, 11, 12, 13, 14]),\n",
       " <a list of 13 Patch objects>)"
      ]
     },
     "execution_count": 11,
     "metadata": {
      "tags": []
     },
     "output_type": "execute_result"
    },
    {
     "data": {
      "image/png": "[encoded data removed]",
      "text/plain": [
       "<Figure size 432x288 with 1 Axes>"
      ]
     },
     "metadata": {
      "needs_background": "light",
      "tags": []
     },
     "output_type": "display_data"
    }
   ],
   "source": [
    "import matplotlib.pyplot as plt\n",
    "\n",
    "classes = np.unique(train_df['class'])\n",
    "plt.hist(train_df['class'], bins=classes)"
   ]
  },
  {
   "cell_type": "code",
   "execution_count": 12,
   "metadata": {
    "id": "fIqoY4Dmrqg8"
   },
   "outputs": [],
   "source": [
    "import random\n",
    "\n",
    "def generate_label_splits():\n",
    "    \"\"\"\n",
    "    Function to generate the label splits\n",
    "    \"\"\"\n",
    "    num_per_class_label_split1 = 2000\n",
    "    num_per_class_label_split2 = 500\n",
    "\n",
    "    # final dataframes\n",
    "    x_split1_df, y_split1_df = pd.DataFrame(columns=['text_vec']), pd.DataFrame(columns=['class'])\n",
    "    x_split2_df, y_split2_df = pd.DataFrame(columns=['text_vec']), pd.DataFrame(columns=['class'])\n",
    "\n",
    "    for c in classes:\n",
    "        c_idx = np.where(train_df['class'] == c)[0]\n",
    "        # generating split 1\n",
    "        split1_idx = random.sample(c_idx.tolist(), num_per_class_label_split1)\n",
    "        x_split1_df = x_split1_df.append(train_df['text_vec'].iloc[split1_idx])\n",
    "        y_split1_df = y_split1_df.append(train_df['text_vec'].iloc[split1_idx])\n",
    "        # generating split 2\n",
    "        split2_idx = random.sample(c_idx.tolist(), num_per_class_label_split2)\n",
    "        x_split2_df = x_split2_df.append(train_df['text_vec'].iloc[split2_idx])\n",
    "        y_split2_df = y_split2_df.append(train_df['text_vec'].iloc[split2_idx])\n",
    "\n",
    "    x_split1_df.to_pickle(os.path.join(DATA_DIR, 'dbpedia_train_x_split1.pkl'))\n",
    "    y_split1_df.to_pickle(os.path.join(DATA_DIR, 'dbpedia_train_y_split1.pkl'))\n",
    "    x_split2_df.to_pickle(os.path.join(DATA_DIR, 'dbpedia_train_x_split2.pkl'))\n",
    "    y_split2_df.to_pickle(os.path.join(DATA_DIR, 'dbpedia_train_y_split2.pkl'))\n",
    "\n",
    "generate_label_splits()"
   ]
  },
  {
   "cell_type": "code",
   "execution_count": null,
   "metadata": {
    "id": "0l87jlA2TJ1E"
   },
   "outputs": [],
   "source": []
  }
 ],
 "metadata": {
  "colab": {
   "name": "preprocess_dbpedia.ipynb",
   "provenance": [],
   "toc_visible": true
  },
  "kernelspec": {
   "display_name": "Python 3",
   "language": "python",
   "name": "python3"
  },
  "language_info": {
   "codemirror_mode": {
    "name": "ipython",
    "version": 3
   },
   "file_extension": ".py",
   "mimetype": "text/x-python",
   "name": "python",
   "nbconvert_exporter": "python",
   "pygments_lexer": "ipython3",
   "version": "3.7.3"
  }
 },
 "nbformat": 4,
 "nbformat_minor": 4
}
